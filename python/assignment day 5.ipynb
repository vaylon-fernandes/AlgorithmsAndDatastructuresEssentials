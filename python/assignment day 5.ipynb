{
 "cells": [
  {
   "cell_type": "markdown",
   "id": "decent-medicare",
   "metadata": {},
   "source": [
    "Question 1<br>\n",
    "Name 5 sorting algorithms, also write their time complexities(best, average, worst).<br>\n",
    "\n",
    "|                \t| Best Case \t| Average Case \t| Worst Case \t|\n",
    "|----------------\t|-----------\t|--------------\t|------------\t|\n",
    "| Bubble Sort    \t|O(n<sup>2</sup>)|O(n<sup>2</sup>)|O(n<sup>2</sup>)|\n",
    "| Selection Sort \t|O(n<sup>2</sup>)|O(n<sup>2</sup>)|O(n<sup>2</sup>)|\n",
    "| Insertion Sort \t|O(n)           |O(n<sup>2</sup>)|O(n<sup>2</sup>)|\n",
    "| Merge Sort     \t| O(nlog(n))            \t |O(nlog(n))              \t|    O(nlog(n))          \t|\n",
    "| Quick Sort     \t|O(nlog(n))           \t|O(nlog(n))              \t|O(n<sup>2</sup>)            \t|"
   ]
  },
  {
   "cell_type": "markdown",
   "id": "adequate-repository",
   "metadata": {},
   "source": [
    "Question 2<br>\n",
    "Implement selection sort algorithm using Python."
   ]
  },
  {
   "cell_type": "code",
   "execution_count": 52,
   "id": "exempt-forum",
   "metadata": {},
   "outputs": [],
   "source": [
    "def selection_sort(arr):\n",
    "    for i in range(len(arr)):\n",
    "        min_index=i\n",
    "        for j in range(i+1, len(arr)):\n",
    "            if arr[min_index]>arr[j]:\n",
    "                min_index=j\n",
    "        arr[i], arr[min_index] = arr[min_index], arr[i]"
   ]
  },
  {
   "cell_type": "code",
   "execution_count": 53,
   "id": "biblical-mechanics",
   "metadata": {},
   "outputs": [],
   "source": [
    "from random import randint\n",
    "arr=[randint(10, 100) for _ in range(10)]\n"
   ]
  },
  {
   "cell_type": "code",
   "execution_count": 54,
   "id": "parental-retention",
   "metadata": {},
   "outputs": [
    {
     "data": {
      "text/plain": [
       "[95, 68, 65, 48, 30, 53, 19, 35, 12, 68]"
      ]
     },
     "execution_count": 54,
     "metadata": {},
     "output_type": "execute_result"
    }
   ],
   "source": [
    "arr"
   ]
  },
  {
   "cell_type": "code",
   "execution_count": 55,
   "id": "endangered-threshold",
   "metadata": {},
   "outputs": [],
   "source": [
    "selection_sort(arr)"
   ]
  },
  {
   "cell_type": "code",
   "execution_count": 56,
   "id": "enormous-offer",
   "metadata": {},
   "outputs": [
    {
     "data": {
      "text/plain": [
       "[12, 19, 30, 35, 48, 53, 65, 68, 68, 95]"
      ]
     },
     "execution_count": 56,
     "metadata": {},
     "output_type": "execute_result"
    }
   ],
   "source": [
    "arr"
   ]
  },
  {
   "cell_type": "markdown",
   "id": "mathematical-distance",
   "metadata": {},
   "source": [
    "Question 3<br>\n",
    "Implement pop operation of the stack"
   ]
  },
  {
   "cell_type": "code",
   "execution_count": 80,
   "id": "adopted-price",
   "metadata": {},
   "outputs": [],
   "source": [
    "def push(data):\n",
    "    global top, size, stack\n",
    "    if top == size-1:\n",
    "        print(\"Overflow\")\n",
    "    else: \n",
    "        top+=1\n",
    "        stack.insert(top, data)\n",
    "\n",
    "def pop():\n",
    "    # LIFO order pop \n",
    "    global top, stack\n",
    "    \n",
    "    if top==-1:\n",
    "        print(\"underflow\")\n",
    "    else:\n",
    "        print(f\"Pop:{stack[top]}\")\n",
    "        del stack[top]\n",
    "        top-=1\n",
    "        \n",
    "def display():\n",
    "    global stack \n",
    "    if top==-1:\n",
    "        print(\"underflow\")\n",
    "    else: \n",
    "        print(*stack[::-1])"
   ]
  },
  {
   "cell_type": "code",
   "execution_count": 81,
   "id": "incorporate-houston",
   "metadata": {},
   "outputs": [
    {
     "name": "stdout",
     "output_type": "stream",
     "text": [
      "30 20 10\n",
      "Pop:30\n",
      "Pop:20\n",
      "10\n"
     ]
    }
   ],
   "source": [
    "top = -1\n",
    "size=5\n",
    "stack=[]\n",
    "\n",
    "push(10)\n",
    "push(20)\n",
    "push(30)\n",
    "\n",
    "display()\n",
    "\n",
    "pop()\n",
    "pop()\n",
    "\n",
    "display()"
   ]
  },
  {
   "cell_type": "markdown",
   "id": "unusual-debate",
   "metadata": {},
   "source": [
    "Question 4<br>\n",
    "Implement dequeue operation of the queue"
   ]
  },
  {
   "cell_type": "code",
   "execution_count": 108,
   "id": "broad-kazakhstan",
   "metadata": {},
   "outputs": [],
   "source": [
    "def enque(data): \n",
    "    global front, rear, queue \n",
    "    if rear==size-1:\n",
    "        print('overflow')\n",
    "        return \n",
    "    elif rear==-1:\n",
    "            front=rear=0\n",
    "    else:\n",
    "        rear+=1\n",
    "    queue.insert(rear, data)\n",
    "    \n",
    "def deque():\n",
    "    global front, rear, queue\n",
    "    if front==-1:\n",
    "        print(\"underflow\")\n",
    "    elif front==rear:\n",
    "        p=queue.pop(0)\n",
    "        print(p)\n",
    "        front=rear=-1\n",
    "    else:\n",
    "        print(queue.pop(0))\n",
    "        rear-=1\n",
    "\n",
    "def display():\n",
    "    global front, rear\n",
    "    if front==-1:\n",
    "        print(\"underflow\")\n",
    "        return\n",
    "    else: \n",
    "        print(*queue, end=\" \")"
   ]
  },
  {
   "cell_type": "code",
   "execution_count": 111,
   "id": "parallel-length",
   "metadata": {},
   "outputs": [
    {
     "name": "stdout",
     "output_type": "stream",
     "text": [
      "60\n",
      "56 78 "
     ]
    }
   ],
   "source": [
    "front=rear=-1\n",
    "size=5\n",
    "queue=[]\n",
    "enque(60)\n",
    "enque(56)\n",
    "enque(78)\n",
    "display()\n"
   ]
  },
  {
   "cell_type": "code",
   "execution_count": 112,
   "id": "virtual-cleaning",
   "metadata": {},
   "outputs": [
    {
     "name": "stdout",
     "output_type": "stream",
     "text": [
      "56\n",
      "78 "
     ]
    }
   ],
   "source": [
    "deque()\n",
    "\n",
    "display()"
   ]
  },
  {
   "cell_type": "code",
   "execution_count": null,
   "id": "smart-proportion",
   "metadata": {},
   "outputs": [],
   "source": []
  }
 ],
 "metadata": {
  "kernelspec": {
   "display_name": "Python 3",
   "language": "python",
   "name": "python3"
  },
  "language_info": {
   "codemirror_mode": {
    "name": "ipython",
    "version": 3
   },
   "file_extension": ".py",
   "mimetype": "text/x-python",
   "name": "python",
   "nbconvert_exporter": "python",
   "pygments_lexer": "ipython3",
   "version": "3.8.5"
  }
 },
 "nbformat": 4,
 "nbformat_minor": 5
}
