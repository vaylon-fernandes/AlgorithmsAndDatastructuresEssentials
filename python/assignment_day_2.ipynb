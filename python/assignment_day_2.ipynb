{
 "cells": [
  {
   "cell_type": "markdown",
   "metadata": {},
   "source": [
    "**Question 1**<br>\n",
    "Write a Python program to print even numbers in a list.<br>\n",
    "Sample:<br>\n",
    "Input: list1 = [12, 3, 55, 6, 144]<br>\n",
    "Output: [12, 6, 144]<br>\n",
    "Input: list2 = [2, 10, 9, 37]<br>\n",
    "Output: [2, 10]<br>"
   ]
  },
  {
   "cell_type": "code",
   "execution_count": 8,
   "metadata": {},
   "outputs": [],
   "source": [
    "# solution \n",
    "def even_nums(num_list):\n",
    "    even_nums_list = [num for num in num_list if num%2==0]\n",
    "    print(even_nums_list)\n",
    "list1 = [12, 3, 55, 6, 144]\n",
    "list2 = [2, 10, 9, 37]"
   ]
  },
  {
   "cell_type": "code",
   "execution_count": 9,
   "metadata": {},
   "outputs": [
    {
     "name": "stdout",
     "output_type": "stream",
     "text": [
      "[12, 6, 144]\n"
     ]
    }
   ],
   "source": [
    "even_nums(list1)"
   ]
  },
  {
   "cell_type": "code",
   "execution_count": 10,
   "metadata": {},
   "outputs": [
    {
     "name": "stdout",
     "output_type": "stream",
     "text": [
      "[2, 10]\n"
     ]
    }
   ],
   "source": [
    "even_nums(list2)"
   ]
  },
  {
   "cell_type": "markdown",
   "metadata": {},
   "source": [
    "**Question 2** <br>\n",
    "Write a program to print the following pattern <br>\n",
    "&nbsp;&nbsp;&nbsp;&nbsp;&nbsp;&nbsp;1<br>\n",
    "&nbsp;&nbsp;&nbsp;&nbsp;22<br>\n",
    "&nbsp;&nbsp;333<br>\n",
    "&nbsp;4444<br>\n",
    "55555"
   ]
  },
  {
   "cell_type": "code",
   "execution_count": 18,
   "metadata": {},
   "outputs": [
    {
     "name": "stdout",
     "output_type": "stream",
     "text": [
      "    1\n",
      "   22\n",
      "  333\n",
      " 4444\n",
      "55555\n"
     ]
    }
   ],
   "source": [
    "n=5\n",
    "for i in range(1,n+1):\n",
    "    spaces=' '*(n-i)\n",
    "    nums=str(i)*i\n",
    "    print(spaces+nums)"
   ]
  },
  {
   "cell_type": "code",
   "execution_count": null,
   "metadata": {},
   "outputs": [],
   "source": [
    "\n"
   ]
  },
  {
   "cell_type": "code",
   "execution_count": null,
   "metadata": {},
   "outputs": [],
   "source": []
  }
 ],
 "metadata": {
  "kernelspec": {
   "display_name": "Python 3",
   "language": "python",
   "name": "python3"
  },
  "language_info": {
   "codemirror_mode": {
    "name": "ipython",
    "version": 3
   },
   "file_extension": ".py",
   "mimetype": "text/x-python",
   "name": "python",
   "nbconvert_exporter": "python",
   "pygments_lexer": "ipython3",
   "version": "3.8.3"
  }
 },
 "nbformat": 4,
 "nbformat_minor": 4
}
