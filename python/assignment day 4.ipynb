{
 "cells": [
  {
   "cell_type": "markdown",
   "id": "romantic-running",
   "metadata": {},
   "source": [
    "Question 1<br>\n",
    "Implement deletion operation from the end of the linked list and Insertion operation from the<br>\n",
    "beginning of the linked list<br>\n",
    "\n",
    "Deleting node at end of a Linked List code snippet <br> \n",
    "````python \n",
    "def delete_at_end(self): \n",
    "        if self.head == None:\n",
    "            print(\"Linked List empty\")\n",
    "            return\n",
    "        \n",
    "        # next node after head node is None\n",
    "        # then Head is the only node. \n",
    "        # Set head node to None and return \n",
    "        \n",
    "        if self.head.next == None:\n",
    "            self.head=None\n",
    "            return \n",
    "        \n",
    "        temp = self.head\n",
    "        \n",
    "        # while the last element is not None\n",
    "        while temp.next.next!=None:\n",
    "            # increment temp to second last position \n",
    "            temp=temp.next\n",
    "        # Set last Node to None\n",
    "        temp.next=None\n",
    "````\n",
    "<br> Inserting Node at begining of Linked list \n",
    "````python \n",
    "def insert_at_head(self, data):\n",
    "        new = Node(data)\n",
    "        if self.head==None:\n",
    "            self.head=new\n",
    "            return \n",
    "        # set the node after the new node as Head\n",
    "        new.next = self.head\n",
    "        # set the new node as head Node\n",
    "        self.head = new\n",
    "````"
   ]
  },
  {
   "cell_type": "code",
   "execution_count": 131,
   "id": "conscious-shooting",
   "metadata": {},
   "outputs": [],
   "source": [
    "class Node:\n",
    "    def __init__(self, data):\n",
    "        self.data = data\n",
    "        self.next = None\n",
    "        \n",
    "class LinkedList:\n",
    "    def __init__(self):\n",
    "        self.head = None\n",
    "    \n",
    "    def insert_end(self, data): \n",
    "        new = Node(data)\n",
    "        if self.head == None:\n",
    "            self.head = new\n",
    "            return \n",
    "        temp = self.head\n",
    "        while temp.next!=None:\n",
    "            temp=temp.next\n",
    "        temp.next = new\n",
    "        \n",
    "    def insert_at_head(self, data):\n",
    "        new = Node(data)\n",
    "        if self.head==None:\n",
    "            self.head=new\n",
    "            return \n",
    "        new.next = self.head\n",
    "        self.head = new\n",
    "        \n",
    "    def delete_at_head(self):\n",
    "        if self.head == None:\n",
    "            print(\"Linked List empty\")\n",
    "            return\n",
    "        self.head = self.head.next\n",
    "    \n",
    "    def delete_at_end(self): \n",
    "        if self.head == None:\n",
    "            print(\"Linked List empty\")\n",
    "            return\n",
    "        \n",
    "        if self.head.next == None:\n",
    "            self.head=None\n",
    "            return \n",
    "        \n",
    "        temp = self.head\n",
    "        \n",
    "        while temp.next.next!=None:\n",
    "            temp=temp.next\n",
    "        \n",
    "        temp.next=None\n",
    "        \n",
    "    def display(self):\n",
    "        if self.head == None:\n",
    "            print(\"No node to display\")\n",
    "            return\n",
    "        temp = self.head\n",
    "        while temp!=None:\n",
    "            print(temp.data, end=\" \")\n",
    "            temp = temp.next"
   ]
  },
  {
   "cell_type": "code",
   "execution_count": 132,
   "id": "exceptional-animation",
   "metadata": {},
   "outputs": [
    {
     "name": "stdout",
     "output_type": "stream",
     "text": [
      "10 20 30 "
     ]
    }
   ],
   "source": [
    "li = LinkedList()\n",
    "li.insert_end(10)\n",
    "li.insert_end(20)\n",
    "li.insert_end(30)\n",
    "li.display()\n"
   ]
  },
  {
   "cell_type": "code",
   "execution_count": 133,
   "id": "round-melbourne",
   "metadata": {},
   "outputs": [
    {
     "name": "stdout",
     "output_type": "stream",
     "text": [
      "40 10 20 "
     ]
    }
   ],
   "source": [
    "li.insert_at_head(40)\n",
    "li.delete_at_end()\n",
    "li.display()"
   ]
  },
  {
   "cell_type": "markdown",
   "id": "potential-ladder",
   "metadata": {},
   "source": [
    "**Question 2**<br>\n",
    "Implement binary search using python language.\n",
    "(Write a function which returns the index of x in given array arr if present, else returns -1)"
   ]
  },
  {
   "cell_type": "code",
   "execution_count": 84,
   "id": "native-natural",
   "metadata": {},
   "outputs": [],
   "source": [
    "def binary_search(arr, x):\n",
    "    left_index = 0\n",
    "    right_index = len(arr)-1\n",
    "    mid=0\n",
    "    while right_index>=left_index:\n",
    "        mid=(left_index+right_index)//2\n",
    "        \n",
    "        if arr[mid]==x:\n",
    "            return mid\n",
    "        elif x>arr[mid]:\n",
    "            left_index=mid+1\n",
    "        else:\n",
    "            right_index=mid-1\n",
    "        \n",
    "    return -1"
   ]
  },
  {
   "cell_type": "code",
   "execution_count": 86,
   "id": "processed-drill",
   "metadata": {},
   "outputs": [
    {
     "name": "stdout",
     "output_type": "stream",
     "text": [
      "Element 2 found at index 0\n",
      "\n",
      "Element 11 not in array\n",
      "\n",
      "Element 45 not in array\n",
      "\n",
      "Element 3 found at index 1\n",
      "\n",
      "Element 56 not in array\n",
      "\n",
      "Element 4 found at index 2\n",
      "\n",
      "Element 67 not in array\n",
      "\n",
      "Element 10 found at index 3\n",
      "\n",
      "Element 40 found at index 4\n",
      "\n"
     ]
    }
   ],
   "source": [
    "# testing \n",
    "arr = [ 2, 3, 4, 10, 40 ] \n",
    "to_find = [2, 11, 45, 3, 56, 4, 67, 10, 40]\n",
    "\n",
    "for element in to_find:\n",
    "    search_result=binary_search(arr, element)\n",
    "    if search_result!=-1:\n",
    "        print(f\"Element {element} found at index {search_result}\\n\")\n",
    "    else:\n",
    "        print(f\"Element {element} not in array\\n\")"
   ]
  },
  {
   "cell_type": "code",
   "execution_count": null,
   "id": "right-design",
   "metadata": {},
   "outputs": [],
   "source": []
  },
  {
   "cell_type": "markdown",
   "id": "clean-facility",
   "metadata": {},
   "source": [
    "**Question 3**<br>\n",
    "Write a Python program to find the middle of a linked list."
   ]
  },
  {
   "cell_type": "code",
   "execution_count": 96,
   "id": "metropolitan-madison",
   "metadata": {},
   "outputs": [],
   "source": [
    "class Node:\n",
    "    def __init__(self, data):\n",
    "        self.data = data\n",
    "        self.next = None\n",
    "        \n",
    "class LinkedList:\n",
    "    def __init__(self):\n",
    "        self.head = None\n",
    "        \n",
    "    def insert_data(self, data):\n",
    "        new = Node(data)\n",
    "        if self.head==None:\n",
    "            self.head=new\n",
    "            return \n",
    "        temp = self.head\n",
    "        while temp.next!=None:\n",
    "            temp=temp.next\n",
    "        temp.next=new\n",
    "        \n",
    "    def find_middle(self):\n",
    "        temp=self.head\n",
    "        count=0\n",
    "        while self.head.next:\n",
    "            if count%2==0:\n",
    "                temp=temp.next\n",
    "            self.head = self.head.next\n",
    "            count+=1\n",
    "        print(f\"Middle element is {temp.data}\")"
   ]
  },
  {
   "cell_type": "code",
   "execution_count": 97,
   "id": "vanilla-overall",
   "metadata": {},
   "outputs": [
    {
     "name": "stdout",
     "output_type": "stream",
     "text": [
      "Middle element is 30\n"
     ]
    }
   ],
   "source": [
    "li = LinkedList()\n",
    "li.insert_data(10)\n",
    "li.insert_data(20)\n",
    "li.insert_data(30)\n",
    "li.insert_data(40)\n",
    "li.insert_data(50)\n",
    "li.find_middle()"
   ]
  },
  {
   "cell_type": "code",
   "execution_count": null,
   "id": "floating-barcelona",
   "metadata": {},
   "outputs": [],
   "source": []
  }
 ],
 "metadata": {
  "kernelspec": {
   "display_name": "Python 3",
   "language": "python",
   "name": "python3"
  },
  "language_info": {
   "codemirror_mode": {
    "name": "ipython",
    "version": 3
   },
   "file_extension": ".py",
   "mimetype": "text/x-python",
   "name": "python",
   "nbconvert_exporter": "python",
   "pygments_lexer": "ipython3",
   "version": "3.8.5"
  }
 },
 "nbformat": 4,
 "nbformat_minor": 5
}
