{
 "cells": [
  {
   "cell_type": "markdown",
   "id": "twelve-mandate",
   "metadata": {},
   "source": [
    "Question 1<br>\n",
    "Write a Python program to add two numbers using class and object.<br>\n",
    "(Take both numbers as input from the user)<br>"
   ]
  },
  {
   "cell_type": "code",
   "execution_count": 76,
   "id": "therapeutic-baghdad",
   "metadata": {},
   "outputs": [],
   "source": [
    "class Solve:\n",
    "    def __init_(self):\n",
    "        pass\n",
    "    \n",
    "    def user_input(self):\n",
    "        num_1 = int(input('Enter first number to be added: '))\n",
    "        num_2 = int(input('Enter second number to be added: '))\n",
    "        return num_1, num_2\n",
    "    \n",
    "    def add(self):\n",
    "        num_1, num_2 = self.user_input()\n",
    "        print('Sum =',num_1+num_2)"
   ]
  },
  {
   "cell_type": "code",
   "execution_count": 77,
   "id": "proud-terminal",
   "metadata": {},
   "outputs": [],
   "source": [
    "# instantiate class\n",
    "calc = Solve()"
   ]
  },
  {
   "cell_type": "code",
   "execution_count": 78,
   "id": "comparative-desktop",
   "metadata": {},
   "outputs": [
    {
     "name": "stdout",
     "output_type": "stream",
     "text": [
      "Enter first number to be added: 57\n",
      "Enter second number to be added: 589\n",
      "Sum = 646\n"
     ]
    }
   ],
   "source": [
    "calc.add()"
   ]
  },
  {
   "cell_type": "markdown",
   "id": "aggregate-harvard",
   "metadata": {},
   "source": [
    "Question 2<br>\n",
    "Define a function swap that should swap two values and print the swapped variables outside the\n",
    "swap function."
   ]
  },
  {
   "cell_type": "code",
   "execution_count": 25,
   "id": "necessary-component",
   "metadata": {},
   "outputs": [],
   "source": [
    "def swap(num_1, num_2):\n",
    "    swap_num_1 = num_2\n",
    "    swap_num_2 = num_1\n",
    "    return swap_num_1, swap_num_2"
   ]
  },
  {
   "cell_type": "code",
   "execution_count": 26,
   "id": "atlantic-roman",
   "metadata": {},
   "outputs": [],
   "source": [
    "num_1 = 3\n",
    "num_2 = 4\n",
    "\n",
    "num_1_swapped, num_2_swapped = swap(num_1, num_2)"
   ]
  },
  {
   "cell_type": "code",
   "execution_count": 30,
   "id": "curious-acoustic",
   "metadata": {},
   "outputs": [
    {
     "name": "stdout",
     "output_type": "stream",
     "text": [
      "Original values: First Number= 3, Second Number= 4\n",
      "\n",
      "Swapped values: First Number= 4, Second Number= 3\n"
     ]
    }
   ],
   "source": [
    "print(f\"Original values: First Number= {num_1}, Second Number= {num_2}\\n\\nSwapped values: First Number= {num_1_swapped}, Second Number= {num_2_swapped}\")"
   ]
  },
  {
   "cell_type": "code",
   "execution_count": null,
   "id": "periodic-stewart",
   "metadata": {},
   "outputs": [],
   "source": []
  },
  {
   "cell_type": "code",
   "execution_count": null,
   "id": "smooth-optimization",
   "metadata": {},
   "outputs": [],
   "source": []
  },
  {
   "cell_type": "code",
   "execution_count": null,
   "id": "mysterious-dietary",
   "metadata": {},
   "outputs": [],
   "source": []
  },
  {
   "cell_type": "code",
   "execution_count": null,
   "id": "broken-newman",
   "metadata": {},
   "outputs": [],
   "source": []
  },
  {
   "cell_type": "code",
   "execution_count": null,
   "id": "organized-tunisia",
   "metadata": {},
   "outputs": [],
   "source": []
  },
  {
   "cell_type": "code",
   "execution_count": null,
   "id": "gorgeous-sauce",
   "metadata": {},
   "outputs": [],
   "source": []
  },
  {
   "cell_type": "code",
   "execution_count": null,
   "id": "prospective-characteristic",
   "metadata": {},
   "outputs": [],
   "source": []
  }
 ],
 "metadata": {
  "kernelspec": {
   "display_name": "Python 3",
   "language": "python",
   "name": "python3"
  },
  "language_info": {
   "codemirror_mode": {
    "name": "ipython",
    "version": 3
   },
   "file_extension": ".py",
   "mimetype": "text/x-python",
   "name": "python",
   "nbconvert_exporter": "python",
   "pygments_lexer": "ipython3",
   "version": "3.8.5"
  }
 },
 "nbformat": 4,
 "nbformat_minor": 5
}
